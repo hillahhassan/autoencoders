{
 "cells": [
  {
   "cell_type": "code",
   "execution_count": 1,
   "id": "5c3d4565-96ad-4b0e-af78-b853da074652",
   "metadata": {},
   "outputs": [
    {
     "data": {
      "image/png": "[encoded data removed]",
      "text/plain": [
       "<Figure size 2000x200 with 10 Axes>"
      ]
     },
     "metadata": {},
     "output_type": "display_data"
    }
   ],
   "source": [
    "import torch\n",
    "import numpy as np\n",
    "import matplotlib.pyplot as plt\n",
    "from torchvision import datasets, transforms\n",
    "from torch.utils.data import DataLoader\n",
    "import sys\n",
    "from pathlib import Path\n",
    "\n",
    "# Add project root to Python path\n",
    "sys.path.append(str(Path.cwd()))\n",
    "\n",
    "\n",
    "# ---------------------------\n",
    "# SETUP: Load the MNIST test dataset\n",
    "# ---------------------------\n",
    "transform = transforms.Compose([\n",
    "    transforms.ToTensor(),\n",
    "    # You can add additional transforms if needed (normalization, etc.)\n",
    "])\n",
    "mnist_test = datasets.MNIST(root=\"/datasets/cv_datasets/data\", train=False, transform=transform, download=True)\n",
    "data_loader = DataLoader(mnist_test, batch_size=1, shuffle=True)\n",
    "\n",
    "# ---------------------------\n",
    "# LOAD YOUR PRE-TRAINED MODELS\n",
    "# ---------------------------\n",
    "# Replace these lines with your model loading code.\n",
    "# For example, if your models are saved in a file, you might do:\n",
    "#\n",
    "#   encoder = torch.load('path_to_encoder.pth')\n",
    "#   decoder = torch.load('path_to_decoder.pth')\n",
    "#\n",
    "# Make sure to set them in evaluation mode:\n",
    "#   encoder.eval()\n",
    "#   decoder.eval()\n",
    "#\n",
    "# For this example, we assume `encoder` and `decoder` are already defined.\n",
    "# ---------------------------\n",
    "# Set device (GPU if available)\n",
    "device = torch.device(\"cuda\" if torch.cuda.is_available() else \"cpu\")\n",
    "\n",
    "import sys\n",
    "sys.path.append(\"../../\")  # Go up 2 directories to reach code/\n",
    "\n",
    "\n",
    "from mnist.autoencoder import Encoder, Decoder\n",
    "\n",
    "# Load saved weights\n",
    "encoder = Encoder(latent_dim=128).to(device)\n",
    "decoder = Decoder(latent_dim=128).to(device)\n",
    "\n",
    "encoder.load_state_dict(torch.load(\"../../artifacts/mnist/autoencoder/encoder_mnist.pth\", map_location=device))\n",
    "decoder.load_state_dict(torch.load(\"../../artifacts/mnist/autoencoder/decoder_mnist.pth\", map_location=device))\n",
    "\n",
    "encoder.eval()\n",
    "decoder.eval()\n",
    "\n",
    "\n",
    "# ---------------------------\n",
    "# PICK TWO MNIST TEST IMAGES\n",
    "# ---------------------------\n",
    "# We'll grab the first two images from the test loader for demonstration.\n",
    "images = []\n",
    "labels = []\n",
    "for i, (img, label) in enumerate(data_loader):\n",
    "    images.append(img)\n",
    "    labels.append(label)\n",
    "    if len(images) == 2:\n",
    "        break\n",
    "\n",
    "img1, img2 = images[0].to(device), images[1].to(device)\n",
    "\n",
    "# ---------------------------\n",
    "# ENCODE THE IMAGES TO GET LATENT VECTORS\n",
    "# ---------------------------\n",
    "with torch.no_grad():\n",
    "    z1 = encoder(img1)  # Shape: (1, latent_dim)\n",
    "    z2 = encoder(img2)\n",
    "\n",
    "# ---------------------------\n",
    "# PERFORM A 10-STEP LINEAR INTERPOLATION\n",
    "# ---------------------------\n",
    "num_steps = 10\n",
    "alphas = np.linspace(0, 1, num_steps)\n",
    "interpolated_images = []\n",
    "\n",
    "with torch.no_grad():\n",
    "    for alpha in alphas:\n",
    "        # Compute the interpolated latent vector:\n",
    "        z_interp = (1 - alpha) * z1 + alpha * z2\n",
    "        # Decode the latent vector to reconstruct an image\n",
    "        recon_img = decoder(z_interp)\n",
    "        # Assuming recon_img is of shape (1, C, H, W), move to CPU and squeeze batch/channel dims\n",
    "        img_np = recon_img.cpu().squeeze().numpy()\n",
    "        interpolated_images.append(img_np)\n",
    "\n",
    "# ---------------------------\n",
    "# PLOT THE INTERPOLATED IMAGES\n",
    "# ---------------------------\n",
    "plt.figure(figsize=(20, 2))\n",
    "for idx, img in enumerate(interpolated_images):\n",
    "    ax = plt.subplot(1, num_steps, idx + 1)\n",
    "    plt.imshow(img, cmap=\"gray\")\n",
    "    plt.axis(\"off\")\n",
    "plt.suptitle(\"10-Step Linear Interpolation in Latent Space\", fontsize=16)\n",
    "plt.show()"
   ]
  },
  {
   "cell_type": "code",
   "execution_count": 2,
   "id": "f1c3441b-c88d-489b-8fd4-c28db44ae97a",
   "metadata": {},
   "outputs": [
    {
     "name": "stdout",
     "output_type": "stream",
     "text": [
      "/home/hillahhassan/mini_project_w25/code/dry_questions/question4\n"
     ]
    }
   ],
   "source": [
    "import os\n",
    "print(os.getcwd())\n"
   ]
  }
 ],
 "metadata": {
  "kernelspec": {
   "display_name": "Python 3 (ipykernel)",
   "language": "python",
   "name": "python3"
  },
  "language_info": {
   "codemirror_mode": {
    "name": "ipython",
    "version": 3
   },
   "file_extension": ".py",
   "mimetype": "text/x-python",
   "name": "python",
   "nbconvert_exporter": "python",
   "pygments_lexer": "ipython3",
   "version": "3.9.0"
  }
 },
 "nbformat": 4,
 "nbformat_minor": 5
}
